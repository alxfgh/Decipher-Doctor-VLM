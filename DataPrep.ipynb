{
 "cells": [
  {
   "cell_type": "code",
   "execution_count": 1,
   "metadata": {},
   "outputs": [
    {
     "name": "stdout",
     "output_type": "stream",
     "text": [
      "Flattened prescriptions saved to prescriptions_flat.json\n"
     ]
    }
   ],
   "source": [
    "import json\n",
    "import os\n",
    "\n",
    "def flatten_prescriptions(prescriptions_json):\n",
    "    flat_prescriptions = []\n",
    "    \n",
    "    for patient in prescriptions_json:\n",
    "        name = patient['name']\n",
    "        for prescription in patient['prescriptions']:\n",
    "            prescription_drug_name = prescription['prescription_drug_name']\n",
    "            amount = prescription['amount']\n",
    "            instructions = prescription['instructions']\n",
    "            \n",
    "            flat_entry = f\"{name} {prescription_drug_name} {amount} {instructions}\"\n",
    "            flat_prescriptions.append(flat_entry)\n",
    "    \n",
    "    return flat_prescriptions\n",
    "\n",
    "# Define the input and output file paths\n",
    "input_file = 'prescriptions.json'\n",
    "output_file = 'prescriptions_flat.json'\n",
    "\n",
    "# Check if the input file exists\n",
    "if not os.path.exists(input_file):\n",
    "    print(f\"Error: The file {input_file} does not exist.\")\n",
    "\n",
    "\n",
    "# Load the JSON data from the input file\n",
    "with open(input_file, 'r') as f:\n",
    "    prescriptions_json = json.load(f)\n",
    "\n",
    "# Flatten the prescriptions\n",
    "flat_prescriptions = flatten_prescriptions(prescriptions_json)\n",
    "\n",
    "# Save the flattened prescriptions to the output file\n",
    "with open(output_file, 'w') as f:\n",
    "    json.dump(flat_prescriptions, f, indent=4)\n",
    "\n",
    "print(f\"Flattened prescriptions saved to {output_file}\")\n"
   ]
  }
 ],
 "metadata": {
  "kernelspec": {
   "display_name": "base",
   "language": "python",
   "name": "python3"
  },
  "language_info": {
   "codemirror_mode": {
    "name": "ipython",
    "version": 3
   },
   "file_extension": ".py",
   "mimetype": "text/x-python",
   "name": "python",
   "nbconvert_exporter": "python",
   "pygments_lexer": "ipython3",
   "version": "3.10.9"
  }
 },
 "nbformat": 4,
 "nbformat_minor": 2
}
